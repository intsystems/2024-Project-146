{
 "cells": [
  {
   "cell_type": "markdown",
   "id": "84a78a99",
   "metadata": {},
   "source": [
    " Код взят из https://habr.com/ru/articles/726254/ и исправлен под новую версию pytorch_lightning"
   ]
  },
  {
   "cell_type": "code",
   "execution_count": null,
   "id": "ed747c36",
   "metadata": {},
   "outputs": [],
   "source": [
    "import torch\n",
    "import torch.nn as nn\n",
    "from torch.utils.data import DataLoader\n",
    "from torchvision import transforms, datasets\n",
    "import pytorch_lightning as pl\n",
    "import numpy as np\n",
    "from matplotlib import pyplot as plt, gridspec"
   ]
  },
  {
   "cell_type": "markdown",
   "id": "3147e6e1",
   "metadata": {},
   "source": [
    "Загрузим датасет MNIST"
   ]
  },
  {
   "cell_type": "code",
   "execution_count": 2,
   "id": "487b29c8",
   "metadata": {},
   "outputs": [],
   "source": [
    "mnist_transforms = transforms.Compose([transforms.ToTensor(),\n",
    "                                       transforms.Normalize(mean=0.5, std=0.5),\n",
    "                                       transforms.Lambda(lambda x: x.view(-1, 784))])\n",
    "\n",
    "data = datasets.MNIST(root='MNIST', download=True, transform=mnist_transforms)\n",
    "\n",
    "mnist_dataloader = DataLoader(data, batch_size=128, shuffle=True, num_workers=4)"
   ]
  },
  {
   "cell_type": "markdown",
   "id": "aa9216ec",
   "metadata": {},
   "source": [
    "Определим классы генератора и дискриминатора"
   ]
  },
  {
   "cell_type": "code",
   "execution_count": 3,
   "id": "f3254155",
   "metadata": {},
   "outputs": [],
   "source": [
    "class Generator(nn.Module):\n",
    "    '''\n",
    "    Generator class. Accepts a tensor of size 100 as input as outputs another\n",
    "    tensor of size 784. Objective is to generate an output tensor that is\n",
    "    indistinguishable from the real MNIST digits \n",
    "    '''\n",
    "\n",
    "    def __init__(self):\n",
    "        super().__init__()\n",
    "        self.layer1 = nn.Sequential(nn.Linear(in_features=100, out_features=256),\n",
    "                                    nn.ReLU())\n",
    "        self.layer2 = nn.Sequential(nn.Linear(in_features=256, out_features=512),\n",
    "                                    nn.ReLU())\n",
    "        self.layer3 = nn.Sequential(nn.Linear(in_features=512, out_features=1024),\n",
    "                                    nn.ReLU())\n",
    "        self.output = nn.Sequential(nn.Linear(in_features=1024, out_features=28*28),\n",
    "                                nn.Tanh())\n",
    "\n",
    "    def forward(self, x):\n",
    "        x = self.layer1(x)\n",
    "        x = self.layer2(x)\n",
    "        x = self.layer3(x)\n",
    "        x = self.output(x)\n",
    "        return x"
   ]
  },
  {
   "cell_type": "code",
   "execution_count": 4,
   "id": "22edfdb3",
   "metadata": {},
   "outputs": [],
   "source": [
    "class Discriminator(nn.Module):\n",
    "    '''\n",
    "    Discriminator class. Accepts a tensor of size 784 as input and outputs\n",
    "    a tensor of size 1 as  the predicted class probabilities\n",
    "    (generated or real data)\n",
    "    '''\n",
    "\n",
    "    def __init__(self):\n",
    "        super().__init__()\n",
    "        self.layer1 = nn.Sequential(nn.Linear(in_features=28*28, out_features=1024),\n",
    "                                    nn.LeakyReLU())\n",
    "        self.layer2 = nn.Sequential(nn.Linear(in_features=1024, out_features=512),\n",
    "                                    nn.LeakyReLU())\n",
    "        self.layer3 = nn.Sequential(nn.Linear(in_features=512, out_features=256),\n",
    "                                    nn.LeakyReLU())\n",
    "        self.output = nn.Sequential(nn.Linear(in_features=256, out_features=1),\n",
    "                                    nn.Sigmoid())\n",
    "\n",
    "    def forward(self, x):\n",
    "        x = self.layer1(x)\n",
    "        x = self.layer2(x)\n",
    "        x = self.layer3(x)\n",
    "        x = self.output(x)\n",
    "        return x"
   ]
  },
  {
   "cell_type": "markdown",
   "id": "e4cbef5a",
   "metadata": {},
   "source": [
    "Напишем класс GAN для обучения через pytorch_lightning"
   ]
  },
  {
   "cell_type": "code",
   "execution_count": 5,
   "id": "19d04e12",
   "metadata": {},
   "outputs": [],
   "source": [
    "class GAN(pl.LightningModule):\n",
    "\n",
    "    def __init__(self):\n",
    "        super().__init__()\n",
    "        self.generator = Generator()\n",
    "        self.discriminator = Discriminator()\n",
    "        # After each epoch, we generate 100 images using the noise\n",
    "        # vector here (self.test_noises). We save the output images\n",
    "        # in a list (self.test_progression) for plotting later.\n",
    "        self.test_noises = torch.randn(100, 1, 100, device=device)\n",
    "        self.test_progression = []\n",
    "\n",
    "    def forward(self, z):\n",
    "        \"\"\"\n",
    "        Generates an image using the generator\n",
    "        given input noise z\n",
    "        \"\"\"\n",
    "        return self.generator(z)\n",
    "\n",
    "    def generator_step(self, x):\n",
    "        \"\"\"\n",
    "        Training step for generator\n",
    "        1. Sample random noise\n",
    "        2. Pass noise to generator to\n",
    "           generate images\n",
    "        3. Classify generated images using\n",
    "           the discriminator\n",
    "        4. Backprop loss to the generator\n",
    "        \"\"\"\n",
    "\n",
    "        # Sample noise\n",
    "        z = torch.randn(x.shape[0], 1, 100, device=device)\n",
    "\n",
    "        # Generate images\n",
    "        generated_imgs = self(z)\n",
    "\n",
    "        # Classify generated images\n",
    "        # using the discriminator\n",
    "        d_output = torch.squeeze(self.discriminator(generated_imgs))\n",
    "\n",
    "        # Backprop loss. We want to maximize the discriminator's\n",
    "        # loss, which is equivalent to minimizing the loss with the true\n",
    "        # labels flipped (i.e. y_true=1 for fake images). We do this\n",
    "        # as PyTorch can only minimize a function instead of maximizing\n",
    "        g_loss = nn.BCELoss()(d_output,\n",
    "                               torch.ones(x.shape[0], device=device))\n",
    "\n",
    "        return g_loss\n",
    "\n",
    "    def discriminator_step(self, x):\n",
    "        \"\"\"\n",
    "        Training step for discriminator\n",
    "        1. Get actual images\n",
    "        2. Predict probabilities of actual images and get BCE loss\n",
    "        3. Get fake images from generator\n",
    "        4. Predict probabilities of fake images and get BCE loss\n",
    "        5. Combine loss from both and backprop loss to discriminator\n",
    "        \"\"\"\n",
    "\n",
    "        # Real images\n",
    "        d_output = torch.squeeze(self.discriminator(x))\n",
    "        loss_real = nn.BCELoss()(d_output,\n",
    "                                 torch.ones(x.shape[0], device=device))\n",
    "\n",
    "        # Fake images\n",
    "        z = torch.randn(x.shape[0], 1, 100, device=device)\n",
    "        generated_imgs = self(z)\n",
    "        d_output = torch.squeeze(self.discriminator(generated_imgs))\n",
    "        loss_fake = nn.BCELoss()(d_output,\n",
    "                                 torch.zeros(x.shape[0], device=device))\n",
    "\n",
    "        return loss_real + loss_fake\n",
    "\n",
    "    def training_step(self, batch, batch_idx):\n",
    "        X, _ = batch\n",
    "        \n",
    "        # train generator\n",
    "        loss = self.generator_step(X)\n",
    "        loss.backward()\n",
    "        self.g_optimizer.step()\n",
    "        self.g_optimizer.zero_grad()\n",
    "                \n",
    "        # train discriminator\n",
    "        loss = self.discriminator_step(X)      \n",
    "        loss.backward()\n",
    "        self.d_optimizer.step()\n",
    "        self.d_optimizer.zero_grad()\n",
    "        \n",
    "        return loss\n",
    "\n",
    "    def on_train_epoch_end(self):\n",
    "        epoch_test_images = self(self.test_noises)\n",
    "        self.test_progression.append(epoch_test_images)\n",
    "        \n",
    "    def configure_optimizers(self):\n",
    "        self.automatic_optimization = False\n",
    "        self.g_optimizer = torch.optim.Adam(self.generator.parameters(), lr=0.0002)\n",
    "        self.d_optimizer = torch.optim.Adam(self.discriminator.parameters(), lr=0.0002)\n",
    "        \n",
    "        # Useless optimizer\n",
    "        return torch.optim.Adam(self.parameters(), lr=0)"
   ]
  },
  {
   "cell_type": "markdown",
   "id": "1bf0802f",
   "metadata": {},
   "source": [
    "Обучаем модель на 100 эпохах"
   ]
  },
  {
   "cell_type": "code",
   "execution_count": 6,
   "id": "812f3533",
   "metadata": {
    "scrolled": false
   },
   "outputs": [
    {
     "name": "stderr",
     "output_type": "stream",
     "text": [
      "GPU available: True (cuda), used: True\n",
      "TPU available: False, using: 0 TPU cores\n",
      "IPU available: False, using: 0 IPUs\n",
      "HPU available: False, using: 0 HPUs\n",
      "/home/anton/.local/lib/python3.10/site-packages/pytorch_lightning/trainer/connectors/logger_connector/logger_connector.py:67: Starting from v1.9.0, `tensorboardX` has been removed as a dependency of the `pytorch_lightning` package, due to potential conflicts with other packages in the ML ecosystem. For this reason, `logger=True` will use `CSVLogger` as the default logger, unless the `tensorboard` or `tensorboardX` packages are found. Please `pip install lightning[extra]` or one of them to enable TensorBoard support by default\n",
      "LOCAL_RANK: 0 - CUDA_VISIBLE_DEVICES: [0]\n",
      "\n",
      "  | Name          | Type          | Params\n",
      "------------------------------------------------\n",
      "0 | generator     | Generator     | 1.5 M \n",
      "1 | discriminator | Discriminator | 1.5 M \n",
      "------------------------------------------------\n",
      "2.9 M     Trainable params\n",
      "0         Non-trainable params\n",
      "2.9 M     Total params\n",
      "11.786    Total estimated model params size (MB)\n"
     ]
    },
    {
     "data": {
      "application/vnd.jupyter.widget-view+json": {
       "model_id": "4a1842117ef34378ba7124a4246dbb73",
       "version_major": 2,
       "version_minor": 0
      },
      "text/plain": [
       "Training: |                                               | 0/? [00:00<?, ?it/s]"
      ]
     },
     "metadata": {},
     "output_type": "display_data"
    },
    {
     "name": "stderr",
     "output_type": "stream",
     "text": [
      "`Trainer.fit` stopped: `max_epochs=100` reached.\n"
     ]
    }
   ],
   "source": [
    "device = torch.device(\"cuda:0\" if torch.cuda.is_available() else \"cpu\")\n",
    "\n",
    "model = GAN()\n",
    "\n",
    "trainer = pl.Trainer(max_epochs=100, logger=True)\n",
    "trainer.fit(model, mnist_dataloader)"
   ]
  },
  {
   "cell_type": "markdown",
   "id": "7a695a2c",
   "metadata": {},
   "source": [
    "Посмотрим на выход дикриминатора на последней эпохе"
   ]
  },
  {
   "cell_type": "code",
   "execution_count": 10,
   "id": "21770368",
   "metadata": {},
   "outputs": [
    {
     "data": {
      "image/png": "[encoded data removed]",
      "text/plain": [
       "<Figure size 400x400 with 1 Axes>"
      ]
     },
     "metadata": {},
     "output_type": "display_data"
    }
   ],
   "source": [
    "# Convert images from torch tensor to numpy array\n",
    "images = [i.detach().cpu().numpy() for i in model.test_progression]\n",
    "\n",
    "epoch_to_plot = 40\n",
    "\n",
    "nrow = 1\n",
    "ncol = 1\n",
    "\n",
    "# randomly select 10 images for plotting\n",
    "indexes = np.random.choice(range(100), nrow*ncol, replace=False)\n",
    "\n",
    "fig = plt.figure(figsize=((ncol+1)*2, (nrow+1)*2)) \n",
    "fig.suptitle('Epoch {}'.format(epoch_to_plot), fontsize=30)\n",
    "\n",
    "gs = gridspec.GridSpec(nrow, ncol,\n",
    "         wspace=0.0, hspace=0.0, \n",
    "         top=1.-0.5/(nrow+1), bottom=0.5/(nrow+1), \n",
    "         left=0.5/(ncol+1), right=1-0.5/(ncol+1)) \n",
    "\n",
    "for i in range(nrow):\n",
    "    for j in range(ncol):\n",
    "        idx = i*ncol + j\n",
    "        img = np.reshape(images[epoch_to_plot-1][indexes[idx]], (28,28))\n",
    "        ax = plt.subplot(gs[i,j])\n",
    "        ax.imshow(img, cmap='gray')\n",
    "        ax.axis('off')"
   ]
  },
  {
   "cell_type": "markdown",
   "id": "438ca0e2",
   "metadata": {},
   "source": [
    "Видно, что модель не научилась генерировать похожие на цифры картинки. Это произошло из-за того, что мы не учитывали необходимый для генерации класс (значение цифры) и модель посчитала эту картинку более похожей на любой класс цифры."
   ]
  }
 ],
 "metadata": {
  "kernelspec": {
   "display_name": "Python 3 (ipykernel)",
   "language": "python",
   "name": "python3"
  },
  "language_info": {
   "codemirror_mode": {
    "name": "ipython",
    "version": 3
   },
   "file_extension": ".py",
   "mimetype": "text/x-python",
   "name": "python",
   "nbconvert_exporter": "python",
   "pygments_lexer": "ipython3",
   "version": "3.10.12"
  },
  "varInspector": {
   "cols": {
    "lenName": 16,
    "lenType": 16,
    "lenVar": 40
   },
   "kernels_config": {
    "python": {
     "delete_cmd_postfix": "",
     "delete_cmd_prefix": "del ",
     "library": "var_list.py",
     "varRefreshCmd": "print(var_dic_list())"
    },
    "r": {
     "delete_cmd_postfix": ") ",
     "delete_cmd_prefix": "rm(",
     "library": "var_list.r",
     "varRefreshCmd": "cat(var_dic_list()) "
    }
   },
   "types_to_exclude": [
    "module",
    "function",
    "builtin_function_or_method",
    "instance",
    "_Feature"
   ],
   "window_display": false
  }
 },
 "nbformat": 4,
 "nbformat_minor": 5
}
